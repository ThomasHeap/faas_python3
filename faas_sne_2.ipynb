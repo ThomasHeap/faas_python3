{
 "cells": [
  {
   "cell_type": "markdown",
   "metadata": {
    "slideshow": {
     "slide_type": "slide"
    }
   },
   "source": [
    "## Import your stuff"
   ]
  },
  {
   "cell_type": "code",
   "execution_count": null,
   "metadata": {
    "slideshow": {
     "slide_type": "-"
    }
   },
   "outputs": [],
   "source": [
    "import numpy as np,numpy.linalg\n",
    "import emcee\n",
    "from scipy.optimize import minimize\n",
    "import matplotlib.pyplot as plt\n",
    "import matplotlib as mpl\n",
    "import simulator as faas\n",
    "import pydelfi.ndes as ndes\n",
    "import pydelfi.delfi as delfi\n",
    "import pydelfi.score as score\n",
    "import pydelfi.priors as priors\n",
    "import tensorflow as tf\n",
    "tf.logging.set_verbosity(tf.logging.ERROR)\n",
    "%matplotlib inline\n",
    "seed = 1"
   ]
  },
  {
   "cell_type": "markdown",
   "metadata": {
    "slideshow": {
     "slide_type": "slide"
    }
   },
   "source": [
    "## Set up the prior"
   ]
  },
  {
   "cell_type": "code",
   "execution_count": null,
   "metadata": {},
   "outputs": [],
   "source": [
    "upper = np.array([12,  12,\n",
    "  12,  12, -2, -2, -2,\n",
    " -2])\n",
    "lower = np.array([6,  6,\n",
    "  6,  6, -8, -8, -8,\n",
    " -8])\n",
    "\n",
    "prior_mean = np.array([1.1e-03, -3.9e-01])\n",
    "prior_cov = np.diag(np.array([(0.0011*0.2)**2, (0.39*0.2)**2]))\n",
    "\n",
    "prior = priors.Gaussian_Unif(prior_mean, prior_cov, lower, upper, 2)\n",
    "\n",
    "epsilon_mean = np.array([0]*94)\n",
    "epsilon_cov = np.diag(np.array([0.5] * 94))\n",
    "epsilon_prior = priors.Gaussian(epsilon_mean, epsilon_cov)\n",
    "\n",
    "#print(faasSimulator.exp(1))"
   ]
  },
  {
   "cell_type": "markdown",
   "metadata": {
    "slideshow": {
     "slide_type": "slide"
    }
   },
   "source": [
    "## Set up the simulator\n",
    "This must have the signature `simulator(parameters, seed, args, batch)` -> `np.array([batch, ndata])`"
   ]
  },
  {
   "cell_type": "code",
   "execution_count": null,
   "metadata": {
    "scrolled": true,
    "slideshow": {
     "slide_type": "-"
    }
   },
   "outputs": [],
   "source": [
    "faasSimulator = faas.faas_Model()\n",
    "\n",
    "## repeating last fratio for short rows\n",
    "def simulator(theta, seed, simulator_args, batch):\n",
    "    \n",
    "    eps_prior = simulator_args[0]\n",
    "    eps = eps_prior.draw()\n",
    "    #eps = [0] * 94\n",
    "    \n",
    "    \n",
    "    return faasSimulator.simulation(np.concatenate([theta, eps]), seed)\n",
    "\n",
    "simulator_args = [epsilon_prior]\n",
    "theta0 = faasSimulator.theta0\n",
    "\n",
    "theta_f = [8.886491e+00,  7.924279e+00,\n",
    "   1.050515e+01,  7.397940e+00, -3.682371e+00, -4.509306e+00, -6.162727e+00,\n",
    "  -6.585027e+00,  1.100000e-03, -3.900000e-01]\n",
    "\n",
    "# th = [ 9.00645921e+00,  7.92686304e+00,  1.04450893e+01,  7.42039955e+00,\n",
    "#  -3.63173724e+00, -4.50920711e+00, -6.22102446e+00, -6.60902990e+00,\n",
    "#   1.09551239e-03, -3.87978817e-01]\n",
    "# print(simulator(theta, 0, simulator_args, 1).shape)\n"
   ]
  },
  {
   "cell_type": "code",
   "execution_count": null,
   "metadata": {},
   "outputs": [],
   "source": [
    "# theta_fiducial = np.array([8.886491e+00,  7.924279e+00,\n",
    "#   1.050515e+01,  7.397940e+00, -3.682371e+00, -4.509306e+00, -6.162727e+00,\n",
    "#  -6.585027e+00,  1.100000e-03, -3.900000e-01])\n",
    "# eta_fiducial = np.array(np.load('epsfid.npy'))\n",
    "\n",
    "# Cinv = faasSimulator.Cinv\n",
    "# #np.save('Finv.npy', Finv) # save Finv\n",
    "# mu = np.load('mu.npy') # save mu\n",
    "# #np.save('Cinv.npy', Cinv) # save Cinv\n",
    "# dmudt = np.load('dmudt.npy') # save dmudt\n",
    "\n",
    "\n",
    "# Compressor = score.Gaussian(len(faasSimulator.data()[0,:]), np.concatenate([theta_fiducial, eta_fiducial]), \n",
    "#                             mu = mu, Cinv = Cinv, dmudt = dmudt)\n",
    "\n",
    "# Compressor.compute_fisher()\n",
    "# Finv = Compressor.Finv[0:10,0:10]\n",
    "\n",
    "# nuisance_indices = np.arange(10,104)\n",
    "\n",
    "# def compressor(d, compressor_args):\n",
    "#     nuisances_indices = compressor_args[0]\n",
    "#     return Compressor.projected_scoreMLE(d, nuisance_indices)\n",
    "# compressor_args = [nuisance_indices]"
   ]
  },
  {
   "cell_type": "markdown",
   "metadata": {
    "slideshow": {
     "slide_type": "slide"
    }
   },
   "source": [
    "## Set up the compressor\n",
    "This must have the signature `compressor(data, args)` -> `np.array([n_summaries])`\n",
    "In this case we are going to do _nuisance hardened_ Gaussian score compression $$\\bar{\\mathbf{t}}_\\theta = \\mathbf{t}_\\theta - \\mathbf{F}_{\\theta\\eta}\\mathbf{F}^{-1}_{\\eta\\eta}\\mathbf{t}_\\eta$$ where $$\\mathbf{t}_{(\\theta, \\eta)} = \\nabla_{(\\theta, \\eta)}^T\\boldsymbol\\mu_*\\mathbf{C}^{-1}(\\mathbf{d}-\\boldsymbol\\mu_*)$$\n",
    "We'll use the class `score.Gaussian`. For this we'll need some fiducial parameters, the mean its derivative at the fiducial parameters, the inverse covariance, and the inverse Fisher matrix"
   ]
  },
  {
   "cell_type": "code",
   "execution_count": null,
   "metadata": {},
   "outputs": [],
   "source": [
    "# params = []\n",
    "# for i in range(100):\n",
    "#     ps = prior.draw()\n",
    "#     eps = epsilon_prior.draw()\n",
    "#     params.append(list(ps)+list(eps))\n",
    "# #print(ps)\n",
    "# preds = []\n",
    "# for i in range(100):\n",
    "#     print(len(preds))\n",
    "#     print(i)\n",
    "#     preds.append(faasSimulator.simulation(list(params[i]),seed))\n",
    "\n",
    "#predictions = np.asarray(preds[:100]).T\n",
    "#print(np.asarray(preds)[:100,:].shape)\n",
    "C = np.cov(np.asarray(preds)[:100,:].T)\n",
    "#print(C)\n",
    "Cinv = np.linalg.inv(C)\n",
    "#np.save('Cinv.npy', Cinv)\n",
    "#Cinv = np.load('Cinv.npy')\n",
    "#print(Cinv.shape)\n",
    "#print(Cinv)"
   ]
  },
  {
   "cell_type": "code",
   "execution_count": null,
   "metadata": {},
   "outputs": [],
   "source": [
    "def _getAplus(A):\n",
    "    eigval, eigvec = np.linalg.eig(A)\n",
    "    Q = np.matrix(eigvec)\n",
    "    xdiag = np.matrix(np.diag(np.maximum(eigval, 0)))\n",
    "    return Q*xdiag*Q.T\n",
    "\n",
    "def _getPs(A, W=None):\n",
    "    W05 = np.matrix(W**.5)\n",
    "    return  W05.I * _getAplus(W05 * A * W05) * W05.I\n",
    "\n",
    "def _getPu(A, W=None):\n",
    "    Aret = np.array(A.copy())\n",
    "    Aret[W > 0] = np.array(W)[W > 0]\n",
    "    return np.matrix(Aret)\n",
    "\n",
    "def nearPD(A, nit=10):\n",
    "    n = A.shape[0]\n",
    "    W = np.identity(n) \n",
    "# W is the matrix used for the norm (assumed to be Identity matrix here)\n",
    "# the algorithm should work for any diagonal W\n",
    "    deltaS = 0\n",
    "    Yk = A.copy()\n",
    "    for k in range(nit):\n",
    "        Rk = Yk - deltaS\n",
    "        Xk = _getPs(Rk, W=W)\n",
    "        deltaS = Xk - Rk\n",
    "        Yk = _getPu(Xk, W=W)\n",
    "    return Yk"
   ]
  },
  {
   "cell_type": "code",
   "execution_count": null,
   "metadata": {},
   "outputs": [],
   "source": [
    "theta_fiducial = np.array([8.9,7.9,10.5,7.4,-3.7,-4.6,-6.1,-6.6,0.0011, -0.39])\n",
    "eta_fiducial = np.array(np.load('epsfid_faas.npy'))\n",
    "#print(eta_fiducial)\n",
    "mu = faasSimulator.simulation(np.concatenate([theta_fiducial, eta_fiducial]), seed)\n",
    "\n",
    "#Cinv = faasSimulator.Cinv\n",
    "#print(Cinv)\n",
    "h = np.array(abs(np.concatenate([theta_fiducial, eta_fiducial])))*0.01\n",
    "dmudt = faasSimulator.dmudt(np.concatenate([theta_fiducial, eta_fiducial]), h)\n",
    "#print(dmudt.shape)\n",
    "Compressor = score.Gaussian(len(faasSimulator.data()[0,:]), np.concatenate([theta_fiducial, eta_fiducial]), \n",
    "                            mu = mu, Cinv = Cinv, dmudt = dmudt)\n",
    "\n",
    "Compressor.compute_fisher()\n",
    "\n",
    "Finv = Compressor.Finv[0:10,0:10]\n",
    "#Finv = np.real(F_inv)\n",
    "#print(Finv)\n",
    "nuisance_indices = np.arange(10,104)\n",
    "\n",
    "def compressor(d, compressor_args):\n",
    "    nuisances_indices = compressor_args[0]\n",
    "    return Compressor.projected_scoreMLE(d, nuisance_indices)\n",
    "compressor_args = [nuisance_indices]"
   ]
  },
  {
   "cell_type": "markdown",
   "metadata": {
    "slideshow": {
     "slide_type": "slide"
    }
   },
   "source": [
    "## Load in the compressed data"
   ]
  },
  {
   "cell_type": "code",
   "execution_count": null,
   "metadata": {},
   "outputs": [],
   "source": [
    "print(Finv)\n",
    "\n",
    "compressed_data = compressor(faasSimulator.data_comp(), compressor_args)\n",
    "print(compressed_data)\n",
    "n_data = len(compressed_data)"
   ]
  },
  {
   "cell_type": "markdown",
   "metadata": {
    "slideshow": {
     "slide_type": "slide"
    }
   },
   "source": [
    "## Load in data"
   ]
  },
  {
   "cell_type": "markdown",
   "metadata": {},
   "source": [
    "## Save FINV, only worth doing once, make sure to load"
   ]
  },
  {
   "cell_type": "code",
   "execution_count": null,
   "metadata": {},
   "outputs": [],
   "source": [
    "# np.save('Finv.npy', Finv) # save Finv\n",
    "# np.save('mu.npy', mu) # save mu\n",
    "# #np.save('Cinv.npy', Cinv) # save Cinv\n",
    "# np.save('dmudt.npy', dmudt) # save dmudt"
   ]
  },
  {
   "cell_type": "code",
   "execution_count": null,
   "metadata": {},
   "outputs": [],
   "source": [
    "# data = faasSimulator.data()[0]"
   ]
  },
  {
   "cell_type": "markdown",
   "metadata": {
    "slideshow": {
     "slide_type": "slide"
    }
   },
   "source": [
    "## Define ensemble of NDEs"
   ]
  },
  {
   "cell_type": "code",
   "execution_count": null,
   "metadata": {},
   "outputs": [],
   "source": [
    "NDEs = [ndes.ConditionalMaskedAutoregressiveFlow(n_parameters=10, n_data=n_data, n_hiddens=[50,50], n_mades=8, act_fun=tf.tanh, index=0)]\n",
    "        #ndes.MixtureDensityNetwork(n_parameters=10, n_data=n_data, n_components=1, n_hidden=[30,30], activations=[tf.tanh, tf.tanh], index=1),\n",
    "        #ndes.MixtureDensityNetwork(n_parameters=10, n_data=n_data, n_components=2, n_hidden=[30,30], activations=[tf.tanh, tf.tanh], index=2),\n",
    "        #ndes.MixtureDensityNetwork(n_parameters=10, n_data=n_data, n_components=3, n_hidden=[30,30], activations=[tf.tanh, tf.tanh], index=3),\n",
    "        #ndes.MixtureDensityNetwork(n_parameters=10, n_data=n_data, n_components=4, n_hidden=[30,30], activations=[tf.tanh, tf.tanh], index=4),\n",
    "        #ndes.MixtureDensityNetwork(n_parameters=10, n_data=n_data, n_components=5, n_hidden=[30,30], activations=[tf.tanh, tf.tanh], index=5)]"
   ]
  },
  {
   "cell_type": "markdown",
   "metadata": {
    "slideshow": {
     "slide_type": "slide"
    }
   },
   "source": [
    "## Create DELFI object"
   ]
  },
  {
   "cell_type": "code",
   "execution_count": null,
   "metadata": {},
   "outputs": [],
   "source": [
    "DelfiEnsemble = delfi.Delfi(compressed_data, prior, NDEs, Finv = Finv, theta_fiducial = theta_fiducial,\n",
    "                       param_limits = [np.concatenate((lower, [0,-(0.39*2)])), np.concatenate((upper, [(0.0011*2),0]))],\n",
    "                       param_names = ['logKonTN', 'logKonTC', 'logKonRN', 'logKonRC', 'logKDTN', 'logKDTC', 'logKDRN', 'logKDRC', 'malpha', 'alpha0'],\n",
    "                       results_dir = \"results_batch_whole_newCinv/\",input_normalization=\"fisher\", restore = False, save = True, nwalkers = 500)"
   ]
  },
  {
   "cell_type": "code",
   "execution_count": null,
   "metadata": {},
   "outputs": [],
   "source": [
    "# DelfiEnsemble = delfi.Delfi(compressed_data, prior, NDEs,\n",
    "#                        param_names = ['logKonTN', 'logKonTC', 'logKonRN', 'logKonRC', 'logKDTN', 'logKDTC', 'logKDRN', 'logKDRC', 'malpha', 'alpha0'],\n",
    "#                        results_dir = \"results_batch_whole_comp/\", restore = False, save = True)"
   ]
  },
  {
   "cell_type": "markdown",
   "metadata": {
    "slideshow": {
     "slide_type": "slide"
    }
   },
   "source": [
    "## Fisher pre-training to initialize the NDEs"
   ]
  },
  {
   "cell_type": "code",
   "execution_count": null,
   "metadata": {},
   "outputs": [],
   "source": [
    "DelfiEnsemble.fisher_pretraining()"
   ]
  },
  {
   "cell_type": "markdown",
   "metadata": {
    "slideshow": {
     "slide_type": "slide"
    }
   },
   "source": [
    "## Sequential Neural Likelihood"
   ]
  },
  {
   "cell_type": "code",
   "execution_count": null,
   "metadata": {},
   "outputs": [],
   "source": [
    "n_initial = 100\n",
    "n_batch = 100\n",
    "n_populations = 10\n",
    "\n",
    "DelfiEnsemble.sequential_training(simulator, compressor, n_initial, n_batch, n_populations, patience=50., save_intermediate_posteriors=False, simulator_args = simulator_args, compressor_args = compressor_args)"
   ]
  },
  {
   "cell_type": "markdown",
   "metadata": {},
   "source": [
    "## Sample the learned posterior"
   ]
  },
  {
   "cell_type": "code",
   "execution_count": null,
   "metadata": {},
   "outputs": [],
   "source": [
    "from emcee.autocorr import integrated_time\n",
    "from emcee.moves import StretchMove\n",
    "\n",
    "def emcee_sample(log_likelihood=None, x0=None, burn_in_chain=10, main_chain=10, nwalkers= 1000):\n",
    "\n",
    "        # Set the log likelihood (default to the posterior if none given)\n",
    "        if log_likelihood is None:\n",
    "            log_likelihood = lambda x: DelfiEnsemble.log_posterior_stacked(x, DelfiEnsemble.data)[0]\n",
    "\n",
    "        # Set up default x0\n",
    "        if x0 is None:\n",
    "            x0 = emcee.utils.sample_ball(theta_fiducial, [0.01]*8 + [0.0001] + [0.01], nwalkers)\n",
    "\n",
    "        # Set up the sampler\n",
    "        sampler = emcee.EnsembleSampler(nwalkers, 10, log_likelihood, moves=[StretchMove(a=1)])\n",
    "\n",
    "        # Burn-in chain\n",
    "        pos, prob, state, blobs = sampler.run_mcmc(x0, burn_in_chain, progress=True)\n",
    "        sampler.reset()\n",
    "\n",
    "        sampler.run_mcmc(pos, main_chain, progress=True)\n",
    "        #print(sampler.acceptance_fraction)\n",
    "        return sampler.flatchain\n",
    "\n",
    "\n",
    "    \n",
    "\n",
    "fisher_samples = emcee_sample(burn_in_chain=1000, main_chain=5000)\n",
    "\n",
    "# acls = []\n",
    "# for samps in posterior_samples:\n",
    "#     acls.append(integrated_time(samps))\n",
    "#     posterior_samples = posterior_samples[0:-1:int(np.max(acls)),:]\n",
    "\n",
    "    \n",
    "#print(posterior_samples)\n",
    "np.save('fisher_newCinv.npy', fisher_samples) # save"
   ]
  },
  {
   "cell_type": "markdown",
   "metadata": {},
   "source": [
    "## Alright let's plot it!\n",
    "Feed it a list of `(n_samples, n_parameters)` arrays for making a triangle plot; in this case let's just plot the posterior samples."
   ]
  },
  {
   "cell_type": "code",
   "execution_count": null,
   "metadata": {},
   "outputs": [],
   "source": [
    "# # # posterior_samples = np.load('pst_samples_whole_comp_3rd.npy')\n",
    "pst = np.unique(fisher_samples, axis=0)\n",
    "#print(pst.shape)\n",
    "#print(pst)\n",
    "#print(posterior_samples.shape)\n",
    "DelfiEnsemble.triangle_plot(samples=[pst], savefig=True, filename='fisher.pdf')\n",
    "\n",
    "# param_names = ['logKonTN', 'logKonTC', 'logKonRN', 'logKonRC', 'logKDTN', 'logKDTC', 'logKDRN', 'logKDRC', 'malpha', 'alpha0']\n",
    "# from IPython.display import display, Math\n",
    "# params_med = []\n",
    "# params_up = []\n",
    "# params_low = []\n",
    "# for i in range(10):\n",
    "#     mcmc = np.percentile(posterior_samples[:, i], [16, 50, 84])\n",
    "#     q = np.diff(mcmc)\n",
    "#     txt = \"\\mathrm{{{3}}} = {0:.4f}_{{-{1:.4f}}}^{{{2:.4f}}}\"\n",
    "#     txt = txt.format(mcmc[1], q[0], q[1], param_names[i])\n",
    "#     params_low.append(mcmc[1] - q[0])\n",
    "#     params_med.append(mcmc[1])\n",
    "#     params_up.append(mcmc[1] + q[1])\n",
    "#     print(txt)\n",
    "\n",
    "\n",
    "# plt.show()\n",
    "# print(params_med)"
   ]
  },
  {
   "cell_type": "code",
   "execution_count": null,
   "metadata": {},
   "outputs": [],
   "source": []
  }
 ],
 "metadata": {
  "celltoolbar": "Slideshow",
  "kernelspec": {
   "display_name": "Python 3",
   "language": "python",
   "name": "python3"
  },
  "language_info": {
   "codemirror_mode": {
    "name": "ipython",
    "version": 3
   },
   "file_extension": ".py",
   "mimetype": "text/x-python",
   "name": "python",
   "nbconvert_exporter": "python",
   "pygments_lexer": "ipython3",
   "version": "3.7.6"
  }
 },
 "nbformat": 4,
 "nbformat_minor": 1
}
