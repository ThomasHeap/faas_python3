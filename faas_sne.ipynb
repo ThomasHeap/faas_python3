{
 "cells": [
  {
   "cell_type": "markdown",
   "metadata": {
    "slideshow": {
     "slide_type": "slide"
    }
   },
   "source": [
    "## Import your stuff"
   ]
  },
  {
   "cell_type": "code",
   "execution_count": 1,
   "metadata": {
    "slideshow": {
     "slide_type": "-"
    }
   },
   "outputs": [],
   "source": [
    "import numpy as np\n",
    "import pandas as pd\n",
    "import emcee\n",
    "from scipy.optimize import minimize\n",
    "from getdist import plots, MCSamples\n",
    "import matplotlib.pyplot as plt\n",
    "import matplotlib as mpl\n",
    "import simulator as faas\n",
    "import pydelfi.ndes as ndes\n",
    "import pydelfi.delfi as delfi\n",
    "import pydelfi.score as score\n",
    "import pydelfi.priors as priors\n",
    "import tensorflow as tf\n",
    "tf.logging.set_verbosity(tf.logging.ERROR)\n",
    "%matplotlib inline\n",
    "seed = 1"
   ]
  },
  {
   "cell_type": "markdown",
   "metadata": {
    "slideshow": {
     "slide_type": "slide"
    }
   },
   "source": [
    "## Set up the prior"
   ]
  },
  {
   "cell_type": "code",
   "execution_count": 2,
   "metadata": {},
   "outputs": [],
   "source": [
    "upper = np.array([12,  10, 14,  10, 0, -2, -6,-4])\n",
    "lower = np.array([4,  2, 6, 2, -6, -8, -10, -12])\n",
    "\n",
    "prior_mean = np.array([8.9,7.9,10.5,7.4,-3.7,-4.6,-6.1,-6.6]+[1.1e-03, -3.9e-01])\n",
    "prior_cov = np.diag(np.array([2,2,2,2,2,2,2,2]+[(0.0011*0.2)**2, (0.39*0.2)**2]))\n",
    "\n",
    "prior = priors.Gaussian(prior_mean, prior_cov)\n",
    "\n",
    "epsilon_mean = np.array([0]*94)\n",
    "epsilon_cov = np.diag(np.array([0.5] * 94))\n",
    "epsilon_prior = priors.Gaussian(epsilon_mean, epsilon_cov)\n",
    "\n",
    "#print(faasSimulator.exp(1))"
   ]
  },
  {
   "cell_type": "markdown",
   "metadata": {
    "slideshow": {
     "slide_type": "slide"
    }
   },
   "source": [
    "## Set up the simulator\n",
    "This must have the signature `simulator(parameters, seed, args, batch)` -> `np.array([batch, ndata])`"
   ]
  },
  {
   "cell_type": "code",
   "execution_count": 3,
   "metadata": {
    "scrolled": true,
    "slideshow": {
     "slide_type": "-"
    }
   },
   "outputs": [],
   "source": [
    "faasSimulator = faas.faas_Model()\n",
    "\n",
    "## repeating last fratio for short rows\n",
    "def simulator(th, seed, simulator_args, batch):\n",
    "    \n",
    "    eps_prior = simulator_args[0]\n",
    "    eps = eps_prior.draw()\n",
    "    #eps.index = ['epsilon' + str(i) for i in np.arange(0,94)]\n",
    "    #eps = [0] * 94\n",
    "    \n",
    "    \n",
    "    return faasSimulator.simulation(np.concatenate([th, eps]), seed)\n",
    "\n",
    "simulator_args = [epsilon_prior]\n",
    "theta0 = faasSimulator.theta0\n",
    "\n",
    "theta_f = [8.886491e+00,  7.924279e+00,\n",
    "   1.050515e+01,  7.397940e+00, -3.682371e+00, -4.509306e+00, -6.162727e+00,\n",
    "  -6.585027e+00,  1.100000e-03, -3.900000e-01]\n",
    "\n",
    "# #th = [7.41182866e+00,  1.08261090e+01,  1.17609716e+01,  1.18367247e+01\n",
    "#  -3.77631101e+00, -5.19751189e+00, -4.17913301e+00, -5.19552395e+00,\n",
    "#   1.41581953e-03, -3.82868255e-01]\n",
    "#print(simulator(theta_f, 0, simulator_args, 1))\n"
   ]
  },
  {
   "cell_type": "code",
   "execution_count": null,
   "metadata": {},
   "outputs": [],
   "source": [
    "# theta_fiducial = np.array([8.886491e+00,  7.924279e+00,\n",
    "#   1.050515e+01,  7.397940e+00, -3.682371e+00, -4.509306e+00, -6.162727e+00,\n",
    "#  -6.585027e+00,  1.100000e-03, -3.900000e-01])\n",
    "# eta_fiducial = np.array(np.load('epsfid.npy'))\n",
    "\n",
    "# Cinv = faasSimulator.Cinv\n",
    "# #np.save('Finv.npy', Finv) # save Finv\n",
    "# mu = np.load('mu.npy') # save mu\n",
    "# #np.save('Cinv.npy', Cinv) # save Cinv\n",
    "# dmudt = np.load('dmudt.npy') # save dmudt\n",
    "\n",
    "\n",
    "# Compressor = score.Gaussian(len(faasSimulator.data()[0,:]), np.concatenate([theta_fiducial, eta_fiducial]), \n",
    "#                             mu = mu, Cinv = Cinv, dmudt = dmudt)\n",
    "\n",
    "# Compressor.compute_fisher()\n",
    "# Finv = Compressor.Finv[0:10,0:10]\n",
    "\n",
    "# nuisance_indices = np.arange(10,104)\n",
    "\n",
    "# def compressor(d, compressor_args):\n",
    "#     nuisances_indices = compressor_args[0]\n",
    "#     return Compressor.projected_scoreMLE(d, nuisance_indices)\n",
    "# compressor_args = [nuisance_indices]"
   ]
  },
  {
   "cell_type": "markdown",
   "metadata": {
    "slideshow": {
     "slide_type": "slide"
    }
   },
   "source": [
    "## Set up the compressor\n",
    "This must have the signature `compressor(data, args)` -> `np.array([n_summaries])`\n",
    "In this case we are going to do _nuisance hardened_ Gaussian score compression $$\\bar{\\mathbf{t}}_\\theta = \\mathbf{t}_\\theta - \\mathbf{F}_{\\theta\\eta}\\mathbf{F}^{-1}_{\\eta\\eta}\\mathbf{t}_\\eta$$ where $$\\mathbf{t}_{(\\theta, \\eta)} = \\nabla_{(\\theta, \\eta)}^T\\boldsymbol\\mu_*\\mathbf{C}^{-1}(\\mathbf{d}-\\boldsymbol\\mu_*)$$\n",
    "We'll use the class `score.Gaussian`. For this we'll need some fiducial parameters, the mean its derivative at the fiducial parameters, the inverse covariance, and the inverse Fisher matrix"
   ]
  },
  {
   "cell_type": "code",
   "execution_count": 4,
   "metadata": {},
   "outputs": [],
   "source": [
    "theta_fiducial = np.array([8.886491e+00,  7.924279e+00,\n",
    "  1.050515e+01,  7.397940e+00, -3.682371e+00, -4.509306e+00, -6.162727e+00,\n",
    " -6.585027e+00,  1.100000e-03, -3.900000e-01])\n",
    "eta_fiducial = [0.1] * 94\n",
    "#mu = faasSimulator.simulation(np.concatenate([theta_fiducial, eta_fiducial]), seed)\n",
    "#Cinv = faasSimulator.Cinv\n",
    "\n",
    "#h = np.array(abs(np.concatenate([theta_fiducial, eta_fiducial])))*0.01\n",
    "#dmudt = faasSimulator.dmudt(np.concatenate([theta_fiducial, eta_fiducial]), h)\n",
    "mu = np.load('mu.npy')\n",
    "Cinv = np.load('Cinv.npy')\n",
    "dmudt = np.load('dmudt.npy')\n",
    "Finv = np.linalg.inv(np.load('Finv.npy'))\n",
    "\n",
    "Compressor = score.Gaussian(len(faasSimulator.data()[0,:]), np.concatenate([theta_fiducial, eta_fiducial]), \n",
    "                            mu = mu, Cinv = Cinv, dmudt = dmudt, F=Finv)\n",
    "\n",
    "#Compressor.compute_fisher()\n",
    "#Finv = Compressor.Finv\n",
    "#np.save('Finv.npy', Finv)\n",
    "Finv = Compressor.Finv[0:10,0:10]\n",
    "\n",
    "#np.save('dmudt.npy', dmudt)\n",
    "#np.save('mu.npy', mu)\n",
    "#np.save('Cinv.npy', Cinv)\n",
    "\n",
    "nuisance_indices = np.arange(10,104)\n",
    "\n",
    "def compressor(d, compressor_args):\n",
    "    nuisances_indices = compressor_args[0]\n",
    "    return Compressor.projected_scoreMLE(d, nuisance_indices)\n",
    "compressor_args = [nuisance_indices]"
   ]
  },
  {
   "cell_type": "markdown",
   "metadata": {
    "slideshow": {
     "slide_type": "slide"
    }
   },
   "source": [
    "## Load in the compressed data"
   ]
  },
  {
   "cell_type": "code",
   "execution_count": 5,
   "metadata": {},
   "outputs": [
    {
     "name": "stdout",
     "output_type": "stream",
     "text": [
      "[ 8.84693319e+00  7.87193946e+00  1.04668244e+01  7.60554193e+00\n",
      " -3.66810304e+00 -4.46340453e+00 -6.15641698e+00 -6.59143228e+00\n",
      "  1.09671346e-03 -3.88028524e-01]\n"
     ]
    }
   ],
   "source": [
    "compressed_data = compressor(faasSimulator.data_comp(), compressor_args)\n",
    "print(compressed_data)\n",
    "n_data = len(compressed_data)"
   ]
  },
  {
   "cell_type": "markdown",
   "metadata": {
    "slideshow": {
     "slide_type": "slide"
    }
   },
   "source": [
    "## Load in data"
   ]
  },
  {
   "cell_type": "markdown",
   "metadata": {},
   "source": [
    "## Save FINV, only worth doing once, make sure to load"
   ]
  },
  {
   "cell_type": "code",
   "execution_count": null,
   "metadata": {},
   "outputs": [],
   "source": [
    "# np.save('Finv.npy', Finv) # save Finv\n",
    "# np.save('mu.npy', mu) # save mu\n",
    "# #np.save('Cinv.npy', Cinv) # save Cinv\n",
    "# np.save('dmudt.npy', dmudt) # save dmudt"
   ]
  },
  {
   "cell_type": "code",
   "execution_count": null,
   "metadata": {},
   "outputs": [],
   "source": [
    "# data = faasSimulator.data()[0]"
   ]
  },
  {
   "cell_type": "markdown",
   "metadata": {
    "slideshow": {
     "slide_type": "slide"
    }
   },
   "source": [
    "## Define ensemble of NDEs"
   ]
  },
  {
   "cell_type": "code",
   "execution_count": 6,
   "metadata": {},
   "outputs": [
    {
     "name": "stdout",
     "output_type": "stream",
     "text": [
      "\n",
      "WARNING: The TensorFlow contrib module will not be included in TensorFlow 2.0.\n",
      "For more information, please see:\n",
      "  * https://github.com/tensorflow/community/blob/master/rfcs/20180907-contrib-sunset.md\n",
      "  * https://github.com/tensorflow/addons\n",
      "If you depend on functionality not listed there, please file an issue.\n",
      "\n"
     ]
    }
   ],
   "source": [
    "NDEs = [ndes.ConditionalMaskedAutoregressiveFlow(n_parameters=10, n_data=n_data, n_hiddens=[50,50], n_mades=10, act_fun=tf.tanh, index=0),\n",
    "        ndes.MixtureDensityNetwork(n_parameters=10, n_data=n_data, n_components=1, n_hidden=[30,30], activations=[tf.tanh, tf.tanh], index=1),\n",
    "        ndes.MixtureDensityNetwork(n_parameters=10, n_data=n_data, n_components=2, n_hidden=[30,30], activations=[tf.tanh, tf.tanh], index=2),\n",
    "        ndes.MixtureDensityNetwork(n_parameters=10, n_data=n_data, n_components=3, n_hidden=[30,30], activations=[tf.tanh, tf.tanh], index=3),\n",
    "        ndes.MixtureDensityNetwork(n_parameters=10, n_data=n_data, n_components=4, n_hidden=[30,30], activations=[tf.tanh, tf.tanh], index=4),\n",
    "        ndes.MixtureDensityNetwork(n_parameters=10, n_data=n_data, n_components=5, n_hidden=[30,30], activations=[tf.tanh, tf.tanh], index=5)]"
   ]
  },
  {
   "cell_type": "markdown",
   "metadata": {
    "slideshow": {
     "slide_type": "slide"
    }
   },
   "source": [
    "## Create DELFI object"
   ]
  },
  {
   "cell_type": "code",
   "execution_count": 7,
   "metadata": {},
   "outputs": [],
   "source": [
    "DelfiEnsemble = delfi.Delfi(compressed_data, prior, NDEs, Finv = None, theta_fiducial = theta_fiducial,\n",
    "                       param_limits = [np.concatenate((lower, [(0.0011-(0.0011*0.8)**2),(-0.39-(0.39*0.8)**2)])), np.concatenate((upper, [(0.0011+(0.0011*0.8)**2),(-0.39+(0.39*0.8)**2)]))],\n",
    "                       param_names = ['logKonTN', 'logKonTC', 'logKonRN', 'logKonRC', 'logKDTN', 'logKDTC', 'logKDRN', 'logKDRC', 'malpha', 'alpha0'],\n",
    "                       results_dir = \"results/\",input_normalization = None, restore = False, save = True, nwalkers = 500)"
   ]
  },
  {
   "cell_type": "code",
   "execution_count": null,
   "metadata": {},
   "outputs": [],
   "source": [
    "# DelfiEnsemble = delfi.Delfi(compressed_data, prior, NDEs,\n",
    "#                        param_names = ['logKonTN', 'logKonTC', 'logKonRN', 'logKonRC', 'logKDTN', 'logKDTC', 'logKDRN', 'logKDRC', 'malpha', 'alpha0'],\n",
    "#                        results_dir = \"results_batch_whole_comp/\", restore = False, save = True)"
   ]
  },
  {
   "cell_type": "markdown",
   "metadata": {
    "slideshow": {
     "slide_type": "slide"
    }
   },
   "source": [
    "## Fisher pre-training to initialize the NDEs"
   ]
  },
  {
   "cell_type": "code",
   "execution_count": null,
   "metadata": {},
   "outputs": [],
   "source": [
    "#DelfiEnsemble.fisher_pretraining(plot=False)"
   ]
  },
  {
   "cell_type": "markdown",
   "metadata": {
    "slideshow": {
     "slide_type": "slide"
    }
   },
   "source": [
    "## Sequential Neural Likelihood"
   ]
  },
  {
   "cell_type": "code",
   "execution_count": null,
   "metadata": {},
   "outputs": [
    {
     "data": {
      "application/vnd.jupyter.widget-view+json": {
       "model_id": "3b5cbf2295074459a1ccce81f775a4de",
       "version_major": 2,
       "version_minor": 0
      },
      "text/plain": [
       "HBox(children=(IntProgress(value=0, description='Simulations', max=99, style=ProgressStyle(description_width='…"
      ]
     },
     "metadata": {},
     "output_type": "display_data"
    },
    {
     "name": "stdout",
     "output_type": "stream",
     "text": [
      "Simulator returns NaN/inf for parameter values: [ 8.54386966e+00  8.08968235e+00  1.29616931e+01  7.87657757e+00\n",
      " -3.03510681e+00 -3.29490892e+00 -5.63758194e+00 -6.55423642e+00\n",
      "  9.34818604e-04 -3.71520971e-01] (rank 0)\n",
      "Simulator returns NaN/inf for parameter values: [ 7.13434623e+00  1.16998903e+01  8.70085992e+00  7.13325386e+00\n",
      " -5.71984195e+00 -5.34346411e+00 -5.35055141e+00 -7.52442221e+00\n",
      "  7.51650959e-04 -3.55371479e-01] (rank 0)\n"
     ]
    },
    {
     "data": {
      "application/vnd.jupyter.widget-view+json": {
       "model_id": "55fe9402990644d193e857935765cf6f",
       "version_major": 2,
       "version_minor": 0
      },
      "text/plain": [
       "HBox(children=(IntProgress(value=0, description='Training', max=300, style=ProgressStyle(description_width='in…"
      ]
     },
     "metadata": {},
     "output_type": "display_data"
    },
    {
     "data": {
      "application/vnd.jupyter.widget-view+json": {
       "model_id": "faedd7c6f4c2452e955c0de20d2119b3",
       "version_major": 2,
       "version_minor": 0
      },
      "text/plain": [
       "HBox(children=(IntProgress(value=0, description='Training', max=300, style=ProgressStyle(description_width='in…"
      ]
     },
     "metadata": {},
     "output_type": "display_data"
    },
    {
     "data": {
      "application/vnd.jupyter.widget-view+json": {
       "model_id": "cec6a80bb98145219166263ec774197f",
       "version_major": 2,
       "version_minor": 0
      },
      "text/plain": [
       "HBox(children=(IntProgress(value=0, description='Training', max=300, style=ProgressStyle(description_width='in…"
      ]
     },
     "metadata": {},
     "output_type": "display_data"
    },
    {
     "data": {
      "application/vnd.jupyter.widget-view+json": {
       "model_id": "25f4e4115e34424cb59e188ccbdbb927",
       "version_major": 2,
       "version_minor": 0
      },
      "text/plain": [
       "HBox(children=(IntProgress(value=0, description='Training', max=300, style=ProgressStyle(description_width='in…"
      ]
     },
     "metadata": {},
     "output_type": "display_data"
    },
    {
     "data": {
      "application/vnd.jupyter.widget-view+json": {
       "model_id": "99e41f326a5f4a03aacf622cd428690a",
       "version_major": 2,
       "version_minor": 0
      },
      "text/plain": [
       "HBox(children=(IntProgress(value=0, description='Training', max=300, style=ProgressStyle(description_width='in…"
      ]
     },
     "metadata": {},
     "output_type": "display_data"
    },
    {
     "data": {
      "application/vnd.jupyter.widget-view+json": {
       "model_id": "90f130f44531492a9253bb664f03d327",
       "version_major": 2,
       "version_minor": 0
      },
      "text/plain": [
       "HBox(children=(IntProgress(value=0, description='Training', max=300, style=ProgressStyle(description_width='in…"
      ]
     },
     "metadata": {},
     "output_type": "display_data"
    },
    {
     "name": "stdout",
     "output_type": "stream",
     "text": [
      "Population 1/5\n",
      "Sampling proposal density...\n",
      "Done.\n"
     ]
    },
    {
     "data": {
      "application/vnd.jupyter.widget-view+json": {
       "model_id": "aa4d035a2ed3444cbdd51957a14c93eb",
       "version_major": 2,
       "version_minor": 0
      },
      "text/plain": [
       "HBox(children=(IntProgress(value=0, description='Simulations', max=99, style=ProgressStyle(description_width='…"
      ]
     },
     "metadata": {},
     "output_type": "display_data"
    },
    {
     "name": "stdout",
     "output_type": "stream",
     "text": [
      "Simulator returns NaN/inf for parameter values: [ 1.02201854e+01  7.50150967e+00  9.49335040e+00  9.27230991e+00\n",
      " -2.75699116e+00 -2.69205275e+00 -4.62602142e+00 -8.82990279e+00\n",
      "  1.00876186e-03 -3.47776785e-01] (rank 0)\n",
      "Simulator returns NaN/inf for parameter values: [ 1.15068121e+01  6.74107705e+00  7.16585087e+00  8.26702460e+00\n",
      " -5.28048881e+00 -4.18506373e+00 -6.85474948e+00 -6.04882448e+00\n",
      "  1.09143046e-03 -5.58947315e-01] (rank 0)\n"
     ]
    },
    {
     "data": {
      "application/vnd.jupyter.widget-view+json": {
       "model_id": "b2cd3e360dcd4cfd9ca6f5b66d533ed0",
       "version_major": 2,
       "version_minor": 0
      },
      "text/plain": [
       "HBox(children=(IntProgress(value=0, description='Training', max=300, style=ProgressStyle(description_width='in…"
      ]
     },
     "metadata": {},
     "output_type": "display_data"
    },
    {
     "data": {
      "application/vnd.jupyter.widget-view+json": {
       "model_id": "c22c09ff9f9b48d091affe77191fd0b2",
       "version_major": 2,
       "version_minor": 0
      },
      "text/plain": [
       "HBox(children=(IntProgress(value=0, description='Training', max=300, style=ProgressStyle(description_width='in…"
      ]
     },
     "metadata": {},
     "output_type": "display_data"
    },
    {
     "data": {
      "application/vnd.jupyter.widget-view+json": {
       "model_id": "86dc4ee835bd473c89acdf0e2eb90799",
       "version_major": 2,
       "version_minor": 0
      },
      "text/plain": [
       "HBox(children=(IntProgress(value=0, description='Training', max=300, style=ProgressStyle(description_width='in…"
      ]
     },
     "metadata": {},
     "output_type": "display_data"
    },
    {
     "data": {
      "application/vnd.jupyter.widget-view+json": {
       "model_id": "d5f02da2867c454396606058f72ae16f",
       "version_major": 2,
       "version_minor": 0
      },
      "text/plain": [
       "HBox(children=(IntProgress(value=0, description='Training', max=300, style=ProgressStyle(description_width='in…"
      ]
     },
     "metadata": {},
     "output_type": "display_data"
    },
    {
     "data": {
      "application/vnd.jupyter.widget-view+json": {
       "model_id": "ac2b13694825416ea12e012f8373de52",
       "version_major": 2,
       "version_minor": 0
      },
      "text/plain": [
       "HBox(children=(IntProgress(value=0, description='Training', max=300, style=ProgressStyle(description_width='in…"
      ]
     },
     "metadata": {},
     "output_type": "display_data"
    },
    {
     "data": {
      "application/vnd.jupyter.widget-view+json": {
       "model_id": "107165fa30ed49c694b382f69abe7609",
       "version_major": 2,
       "version_minor": 0
      },
      "text/plain": [
       "HBox(children=(IntProgress(value=0, description='Training', max=300, style=ProgressStyle(description_width='in…"
      ]
     },
     "metadata": {},
     "output_type": "display_data"
    },
    {
     "data": {
      "image/png": "[encoded data removed]",
      "text/plain": [
       "<Figure size 510.236x305.531 with 1 Axes>"
      ]
     },
     "metadata": {
      "needs_background": "light"
     },
     "output_type": "display_data"
    },
    {
     "name": "stdout",
     "output_type": "stream",
     "text": [
      "Population 2/5\n",
      "Sampling proposal density...\n"
     ]
    },
    {
     "name": "stderr",
     "output_type": "stream",
     "text": [
      "/home/thomas/anaconda3/envs/thesis/lib/python3.6/site-packages/emcee/moves/red_blue.py:99: RuntimeWarning: invalid value encountered in double_scalars\n",
      "  lnpdiff = f + nlp - state.log_prob[j]\n"
     ]
    },
    {
     "name": "stdout",
     "output_type": "stream",
     "text": [
      "Done.\n"
     ]
    },
    {
     "data": {
      "application/vnd.jupyter.widget-view+json": {
       "model_id": "18c6d130d71c40a1a104a543e4678dba",
       "version_major": 2,
       "version_minor": 0
      },
      "text/plain": [
       "HBox(children=(IntProgress(value=0, description='Simulations', max=99, style=ProgressStyle(description_width='…"
      ]
     },
     "metadata": {},
     "output_type": "display_data"
    },
    {
     "name": "stdout",
     "output_type": "stream",
     "text": [
      "Simulator returns NaN/inf for parameter values: [ 1.07260811e+01  9.76692606e+00  9.73362724e+00  3.80960853e+00\n",
      " -3.44997896e+00 -4.60904078e+00 -4.87972270e+00 -7.17371990e+00\n",
      "  9.54927198e-04 -4.47967449e-01] (rank 0)\n",
      "Simulator returns NaN/inf for parameter values: [ 9.61919277e+00  7.52928469e+00  1.20603775e+01  7.50630700e+00\n",
      " -2.97227182e+00 -3.20028029e+00 -4.69111419e+00 -6.98839987e+00\n",
      "  1.11108052e-03 -4.94554628e-01] (rank 0)\n"
     ]
    },
    {
     "data": {
      "application/vnd.jupyter.widget-view+json": {
       "model_id": "0537b6be629447c58ffc5ee0c4d61840",
       "version_major": 2,
       "version_minor": 0
      },
      "text/plain": [
       "HBox(children=(IntProgress(value=0, description='Training', max=300, style=ProgressStyle(description_width='in…"
      ]
     },
     "metadata": {},
     "output_type": "display_data"
    },
    {
     "data": {
      "application/vnd.jupyter.widget-view+json": {
       "model_id": "89b2bbfccf284d5283a1fe4674005c3b",
       "version_major": 2,
       "version_minor": 0
      },
      "text/plain": [
       "HBox(children=(IntProgress(value=0, description='Training', max=300, style=ProgressStyle(description_width='in…"
      ]
     },
     "metadata": {},
     "output_type": "display_data"
    },
    {
     "data": {
      "application/vnd.jupyter.widget-view+json": {
       "model_id": "16433ef2783643ffabe5913534d4357d",
       "version_major": 2,
       "version_minor": 0
      },
      "text/plain": [
       "HBox(children=(IntProgress(value=0, description='Training', max=300, style=ProgressStyle(description_width='in…"
      ]
     },
     "metadata": {},
     "output_type": "display_data"
    },
    {
     "data": {
      "application/vnd.jupyter.widget-view+json": {
       "model_id": "3507ad4908244b55bf8c859b75ac81e6",
       "version_major": 2,
       "version_minor": 0
      },
      "text/plain": [
       "HBox(children=(IntProgress(value=0, description='Training', max=300, style=ProgressStyle(description_width='in…"
      ]
     },
     "metadata": {},
     "output_type": "display_data"
    },
    {
     "data": {
      "application/vnd.jupyter.widget-view+json": {
       "model_id": "10c8fa82a9274f15ba8e2be57cbbef0f",
       "version_major": 2,
       "version_minor": 0
      },
      "text/plain": [
       "HBox(children=(IntProgress(value=0, description='Training', max=300, style=ProgressStyle(description_width='in…"
      ]
     },
     "metadata": {},
     "output_type": "display_data"
    },
    {
     "data": {
      "application/vnd.jupyter.widget-view+json": {
       "model_id": "e3ceea1ac3cd456190ef07b1b078f5fb",
       "version_major": 2,
       "version_minor": 0
      },
      "text/plain": [
       "HBox(children=(IntProgress(value=0, description='Training', max=300, style=ProgressStyle(description_width='in…"
      ]
     },
     "metadata": {},
     "output_type": "display_data"
    },
    {
     "data": {
      "image/png": "[encoded data removed]",
      "text/plain": [
       "<Figure size 510.236x305.531 with 1 Axes>"
      ]
     },
     "metadata": {
      "needs_background": "light"
     },
     "output_type": "display_data"
    },
    {
     "name": "stdout",
     "output_type": "stream",
     "text": [
      "Population 3/5\n",
      "Sampling proposal density...\n"
     ]
    },
    {
     "name": "stderr",
     "output_type": "stream",
     "text": [
      "/home/thomas/anaconda3/envs/thesis/lib/python3.6/site-packages/emcee/moves/red_blue.py:99: RuntimeWarning: invalid value encountered in double_scalars\n",
      "  lnpdiff = f + nlp - state.log_prob[j]\n"
     ]
    }
   ],
   "source": [
    "n_initial = 100\n",
    "n_batch = 100\n",
    "n_populations = 5\n",
    "\n",
    "DelfiEnsemble.sequential_training(simulator, compressor, n_initial, n_batch, n_populations, patience=50., save_intermediate_posteriors=False, simulator_args = simulator_args, compressor_args = compressor_args)"
   ]
  },
  {
   "cell_type": "markdown",
   "metadata": {},
   "source": [
    "## Sample the learned posterior"
   ]
  },
  {
   "cell_type": "code",
   "execution_count": null,
   "metadata": {},
   "outputs": [],
   "source": [
    "from emcee.autocorr import integrated_time\n",
    "\n",
    "    \n",
    "def emcee_sample(log_likelihood=None, x0=None, burn_in_chain=100, main_chain=1000, nwalkers=500):\n",
    "    \n",
    "        # Set the log likelihood (default to the posterior if none given)\n",
    "        if log_likelihood is None:\n",
    "            log_likelihood = lambda x: DelfiEnsemble.log_posterior_stacked(x, DelfiEnsemble.data)[0]\n",
    "        \n",
    "        # Set up default x0\n",
    "        if x0 is None:\n",
    "            x0 = [DelfiEnsemble.posterior_samples[-i,:] for i in range(nwalkers)]\n",
    "        \n",
    "        # Set up the sampler\n",
    "        sampler = emcee.EnsembleSampler(nwalkers, 10, log_likelihood)\n",
    "    \n",
    "        # Burn-in chain\n",
    "        state = sampler.run_mcmc(x0, burn_in_chain)\n",
    "        sampler.reset()\n",
    "    \n",
    "        # Main chain\n",
    "        sampler.run_mcmc(state.coords, main_chain)\n",
    "    \n",
    "        return sampler.flatchain\n",
    "\n",
    "\n",
    "    \n",
    "\n",
    "posterior_samples = emcee_sample(burn_in_chain=1000, main_chain=2000)\n",
    "\n",
    "# acls = []\n",
    "# for samps in posterior_samples:\n",
    "#     acls.append(integrated_time(samps))\n",
    "#     posterior_samples = posterior_samples[0:-1:int(np.max(acls)),:]\n",
    "\n",
    "    \n",
    "print(posterior_samples)\n",
    "post = np.unique(posterior_samples, axis=0)\n",
    "np.save('pst_samples.npy', post) # save"
   ]
  },
  {
   "cell_type": "markdown",
   "metadata": {},
   "source": [
    "## Alright let's plot it!\n",
    "Feed it a list of `(n_samples, n_parameters)` arrays for making a triangle plot; in this case let's just plot the posterior samples."
   ]
  },
  {
   "cell_type": "code",
   "execution_count": null,
   "metadata": {},
   "outputs": [],
   "source": [
    "def triangle_plot(samples = None, weights = None, savefig = False, filename = None):\n",
    "        param_limits = [np.concatenate((np.array([2,  0, 2, 0, -12, -12, -12, -14]), [(-0.0011-(0.0011*0.8)**2),(-0.39-(0.39*1)**2)])), np.concatenate((np.array([18,  16, 18,  16, 0, 0, -2, 0]), [(2*0.0011+(0.0011*0.8)**2),(0.39+(0.39*0.8)**2)]))]\n",
    "        lower = param_limits[0]\n",
    "        upper = param_limits[1]\n",
    "        param_names = ['logKonTN', 'logKonTC', 'logKonRN', 'logKonRC', 'logKDTN', 'logKDTC', 'logKDRN', 'logKDRC', 'malpha', 'alpha0']\n",
    "        ranges = dict(zip(param_names, [ [lower[i], upper[i]] for i in range(len(param_names)) ]))\n",
    "        \n",
    "        # Set samples to the posterior samples by de fault\n",
    "        if samples is None:\n",
    "            samples = samples\n",
    "        mc_samples = [MCSamples(samples=s, weights = None, names = param_names, labels = param_names, ranges = ranges) for s in samples]\n",
    "\n",
    "        # Triangle plot\n",
    "        with mpl.rc_context():\n",
    "            g = plots.getSubplotPlotter(width_inch = 12)\n",
    "            g.settings.figure_legend_frame = False\n",
    "            g.settings.alpha_filled_add=0.6\n",
    "            g.settings.axes_fontsize=10\n",
    "            g.settings.legend_fontsize=10\n",
    "            g.settings.lab_fontsize=15\n",
    "            g.triangle_plot(mc_samples, filled_compare=True, normalized=True)\n",
    "            for i in range(0, len(samples[0][0,:])):\n",
    "                for j in range(0, i+1):\n",
    "                    ax = g.subplots[i,j]\n",
    "                    xtl = ax.get_xticklabels()\n",
    "                    ax.set_xticklabels(xtl, rotation=45)\n",
    "            plt.tight_layout()\n",
    "            plt.subplots_adjust(hspace=0, wspace=0)\n",
    "\n",
    "            if savefig:\n",
    "                plt.savefig(filename)\n",
    "                plt.show()\n",
    "            else:\n",
    "                plt.close()"
   ]
  },
  {
   "cell_type": "code",
   "execution_count": null,
   "metadata": {},
   "outputs": [],
   "source": [
    "\n",
    "posterior_samples = np.load('pst_samples.npy')\n",
    "pst = np.unique(posterior_samples, axis=0)\n",
    "print(pst.shape)\n",
    "print(pst)\n",
    "print(posterior_samples.shape)\n",
    "triangle_plot(samples=[pst], savefig=True, filename='plot.pdf')\n",
    "\n",
    "# param_names = ['logKonTN', 'logKonTC', 'logKonRN', 'logKonRC', 'logKDTN', 'logKDTC', 'logKDRN', 'logKDRC', 'malpha', 'alpha0']\n",
    "# from IPython.display import display, Math\n",
    "# params_med = []\n",
    "# params_up = []\n",
    "# params_low = []\n",
    "# for i in range(10):\n",
    "#     mcmc = np.percentile(posterior_samples[:, i], [16, 50, 84])\n",
    "#     q = np.diff(mcmc)\n",
    "#     txt = \"\\mathrm{{{3}}} = {0:.4f}_{{-{1:.4f}}}^{{{2:.4f}}}\"\n",
    "#     txt = txt.format(mcmc[1], q[0], q[1], param_names[i])\n",
    "#     params_low.append(mcmc[1] - q[0])\n",
    "#     params_med.append(mcmc[1])\n",
    "#     params_up.append(mcmc[1] + q[1])\n",
    "#     print(txt)\n",
    "\n",
    "\n",
    "# plt.show()\n",
    "# print(params_med)"
   ]
  },
  {
   "cell_type": "code",
   "execution_count": null,
   "metadata": {},
   "outputs": [],
   "source": [
    "posterior_samples = np.load('pst_samples.npy')\n",
    "param_names = ['logKonTN', 'logKonTC', 'logKonRN', 'logKonRC', 'logKDTN', 'logKDTC', 'logKDRN', 'logKDRC', 'malpha', 'alpha0']\n",
    "from IPython.display import display, Math\n",
    "params_med = []\n",
    "params_up = []\n",
    "params_low = []\n",
    "for i in range(10):\n",
    "    mcmc = np.percentile(posterior_samples[:, i], [16, 50, 84])\n",
    "    q = np.diff(mcmc)\n",
    "    txt = \"\\mathrm{{{3}}} = {0:.4f}_{{-{1:.4f}}}^{{{2:.4f}}}\"\n",
    "    txt = txt.format(mcmc[1], q[0], q[1], param_names[i])\n",
    "    params_low.append(mcmc[1] - q[0])\n",
    "    params_med.append(mcmc[1])\n",
    "    params_up.append(mcmc[1] + q[1])\n",
    "    print(txt)\n",
    "    \n",
    "print(params_med)"
   ]
  },
  {
   "cell_type": "markdown",
   "metadata": {},
   "source": [
    "## Plot learned log-likelihood vs squared error (proportional to Gaussian Likelihood)\n"
   ]
  },
  {
   "cell_type": "code",
   "execution_count": null,
   "metadata": {},
   "outputs": [],
   "source": [
    "# post = np.load('pst_samples_whole_comp_fisher.npy')\n",
    "# post = np.unique(post, axis=0)\n",
    "# eps = [0]*94\n",
    "# ll = lambda x: np.sum(np.sum((faasSimulator.data() - faasSimulator.forward(np.concatenate((x,eps)), seed))**2))\n",
    "\n",
    "# ll_post = lambda x: DelfiEnsemble.log_likelihood_stacked(x, DelfiEnsemble.data)[0]\n",
    "\n",
    "# # # pt_ll = [ll(i) for i in post]\n",
    "# pt_ll_post = [ll_post(i) for i in post]\n",
    "# #print(post.shape)\n",
    "x = np.loadtxt(open('def.csv', \"rb\"), delimiter=',').T\n",
    "\n",
    "plt.scatter(x[0], x[1])\n",
    "plt.plot(np.unique(x[0]), np.poly1d(np.polyfit(x[0], x[1], 1))(np.unique(x[0])), color='red')\n",
    "plt.xlabel(\"NDE log likelihood\")\n",
    "plt.ylabel(\"Squared Error\")\n",
    "plt.tight_layout()\n",
    "plt.savefig('postvssquared_500.pdf')\n",
    "plt.show()"
   ]
  },
  {
   "cell_type": "code",
   "execution_count": null,
   "metadata": {},
   "outputs": [],
   "source": []
  }
 ],
 "metadata": {
  "celltoolbar": "Slideshow",
  "kernelspec": {
   "display_name": "Python 3",
   "language": "python",
   "name": "python3"
  },
  "language_info": {
   "codemirror_mode": {
    "name": "ipython",
    "version": 3
   },
   "file_extension": ".py",
   "mimetype": "text/x-python",
   "name": "python",
   "nbconvert_exporter": "python",
   "pygments_lexer": "ipython3",
   "version": "3.6.8"
  }
 },
 "nbformat": 4,
 "nbformat_minor": 1
}
