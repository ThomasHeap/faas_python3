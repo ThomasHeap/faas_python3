{
 "cells": [
  {
   "cell_type": "code",
   "execution_count": 1,
   "metadata": {},
   "outputs": [],
   "source": [
    "import numpy as np\n",
    "import pandas as pd\n",
    "import scipy.stats as stats\n",
    "\n",
    "import matplotlib.pyplot as plt\n",
    "import matplotlib as mpl\n",
    "import simulator as faas\n",
    "\n",
    "\n",
    "seed = 1"
   ]
  },
  {
   "cell_type": "markdown",
   "metadata": {},
   "source": [
    "## Set up priors\n"
   ]
  },
  {
   "cell_type": "code",
   "execution_count": 15,
   "metadata": {},
   "outputs": [],
   "source": [
    "import delfi.distribution as dd\n",
    "\n",
    "upper = np.array([12,  10, 12,  10, -4, -4, -6,-4] + [0.1,0])\n",
    "lower = np.array([4,  2, 4, 2, -10, -10, -10, -12] + [-0.1,-0.5])\n",
    "\n",
    "\n",
    "upper = np.array([12,  10, 12,  10, 0])# -6,-4] + [0.1,0])\n",
    "lower = np.array([4,  2, 4, 2, -10])# -10, -12] + [-0.1,-0.5])\n",
    "\n",
    "prior_mean = np.array([0]*8 + [1.1e-03, -3.9e-01])\n",
    "prior_cov = np.diag(np.array([10]*8+[(0.0011*0.2)**2, (0.39*0.2)**2]))\n",
    "\n",
    "prior = dd.Uniform(lower= lower, upper=upper, seed=seed)\n",
    "\n",
    "\n",
    "epsilon_mean = np.array([0]*94)\n",
    "epsilon_cov = np.diag(np.array([0.5] * 94))\n",
    "epsilon_prior = dd.Gaussian(m=epsilon_mean, S=epsilon_cov, seed=seed)"
   ]
  },
  {
   "cell_type": "markdown",
   "metadata": {},
   "source": [
    "## Set up Simulator"
   ]
  },
  {
   "cell_type": "code",
   "execution_count": 3,
   "metadata": {},
   "outputs": [],
   "source": [
    "faasSimulator = faas.faas_Model()\n",
    "\n",
    "## repeating last fratio for short rows\n",
    "def simulator(th, seed, simulator_args, batch):\n",
    "    \n",
    "    eps_prior = simulator_args[0]\n",
    "    eps = eps_prior.gen()\n",
    "    #eps.index = ['epsilon' + str(i) for i in np.arange(0,94)]\n",
    "    eps = [0] * 94\n",
    "    \n",
    "    \n",
    "    return faasSimulator.forward(np.concatenate([np.concatenate([th, [-4.509306e+00, -6.162727e+00,\n",
    "  -6.585027e+00,  1.100000e-03, -3.900000e-01]]), eps]), seed)\n",
    "\n",
    "simulator_args = [epsilon_prior]\n",
    "theta0 = faasSimulator.theta0\n",
    "\n",
    "theta_f = [8.886491e+00,  7.924279e+00,\n",
    "   1.050515e+01,  7.397940e+00, -3.682371e+00, -4.509306e+00, -6.162727e+00,\n",
    "  -6.585027e+00,  1.100000e-03, -3.900000e-01]\n",
    "\n",
    "\n"
   ]
  },
  {
   "cell_type": "code",
   "execution_count": 5,
   "metadata": {},
   "outputs": [],
   "source": [
    "from delfi.simulator.BaseSimulator import BaseSimulator\n",
    "\n",
    "class Faas(BaseSimulator):\n",
    "    def __init__(self, batch=0, simulator_args = simulator_args, seed=None):\n",
    "        \"\"\"Faas simulator\n",
    "\n",
    "        Parameters\n",
    "        ----------\n",
    "        seed : int or None\n",
    "            If set, randomness across runs is disabled\n",
    "        \"\"\"\n",
    "        dim_param = 10\n",
    "\n",
    "        super().__init__(dim_param=dim_param, seed=seed)\n",
    "        self.batch = batch\n",
    "        self.simulator_args = simulator_args\n",
    "        self.seed = seed\n",
    "        self.FaasSimulator = simulator\n",
    "        self.time = np.genfromtxt('data/time_points.csv', delimiter=',')\n",
    "\n",
    "    def gen_single(self, params):\n",
    "        \"\"\"Forward model for simulator for single parameter set\n",
    "\n",
    "        Parametersnp.nanstd(stats, axis=0)\n",
    "        ----------\n",
    "        params : list or np.array, 1d of length dim_param\n",
    "            Parameter vector\n",
    "\n",
    "        Returns\n",
    "        -------\n",
    "        dict : dictionary with data\n",
    "            The dictionary must contain a key data that contains the results of\n",
    "            the forward run. Additional entries can be present.\n",
    "        \"\"\"\n",
    "        params = np.asarray(params)\n",
    "\n",
    "        assert params.ndim == 1, 'params.ndim must be 1'\n",
    "\n",
    "        hh_seed = self.seed\n",
    "\n",
    "        states = self.FaasSimulator(th = params, seed = seed, simulator_args = self.simulator_args, batch = self.batch)\n",
    "        if np.isnan(states.flatten()).any() or np.isinf(states.flatten()).any():\n",
    "            states = np.random.randn(94,259)\n",
    "                #return d.flatten()\n",
    "        \n",
    "        return {'data': states, 'time': self.time}"
   ]
  },
  {
   "cell_type": "markdown",
   "metadata": {},
   "source": [
    "## Summary Statistics"
   ]
  },
  {
   "cell_type": "markdown",
   "metadata": {},
   "source": [
    "This is working well for 2-4 params, try with more\n",
    "\n",
    "Very close with 5\n",
    "\n",
    "-- If this doesn't work look into finding peak/peak width using the numpy signals package, and consider calculated the energy\n",
    "\n",
    "use only good summaries"
   ]
  },
  {
   "cell_type": "code",
   "execution_count": 6,
   "metadata": {},
   "outputs": [],
   "source": [
    "from delfi.summarystats.BaseSummaryStats import BaseSummaryStats\n",
    "from scipy import stats as spstats\n",
    "from scipy.signal import find_peaks, peak_widths\n",
    "\n",
    "class FaasStats(BaseSummaryStats):\n",
    "    \"\"\"Moment based SummaryStats class for the faas model\n",
    "\n",
    "    Calculates summary statistics\n",
    "    \"\"\"\n",
    "    def __init__(self, seed=None):\n",
    "        \"\"\"See SummaryStats.py for docstring\"\"\"\n",
    "        super(FaasStats, self).__init__(seed=seed)\n",
    "        self.time = np.genfromtxt('data/time_points.csv', delimiter=',')\n",
    "    \n",
    "    def compressor(self, d, t):\n",
    "            comp_d = []\n",
    "\n",
    "            for i in d:\n",
    "                #mean of final ten entries\n",
    "                final = np.mean(i[-10:])\n",
    "                #median of 3 highest points\n",
    "                peak = np.max(i)\n",
    "                #time to peak\n",
    "                time_peak = t[np.argmax(i)]\n",
    "                #sd = np.std(i[-10:])\n",
    "                #time to final\n",
    "                #time_final = np.argmax(np.logical_and((i[time_peak:] >= final - sd),(i[time_peak:] <= final + sd)) == True) + time_peak\n",
    "                diff_peak_final = (final - peak)/peak * 100\n",
    "                first = np.mean(i[:5])\n",
    "                diff_peak_first = first - peak\n",
    "                diff_first_final = first - final\n",
    "                mid = i[len(i)//2]\n",
    "                diff_first_mid = first - mid\n",
    "                diff_final_mid = final - mid\n",
    "                diff_peak_mid = peak - mid\n",
    "                if time_peak > 259:\n",
    "                    time_peak = np.random.uniform(0, 259)\n",
    "                if diff_peak_final > 25:\n",
    "                    diff_peak_final = np.random.uniform(0.1, 0.2)\n",
    "                \n",
    "                min_slope = np.diff(i).min()\n",
    "                max_slope = np.diff(i[10:]).max()\n",
    "                \n",
    "                max_slope_index = t[np.argmax(np.diff(i[10:])) + 10] \n",
    "                min_slope_index = t[np.argmin(np.diff(i[10:]))] \n",
    "                \n",
    "                #mean slope for first 10, 20, and then the remaining trace\n",
    "                mean_10 = np.mean(np.diff(i)[:10])\n",
    "                mean_30 = np.mean(np.diff(i)[10:30])\n",
    "                mean_rest = np.mean(np.diff(i)[30:])\n",
    "                \n",
    "                #moments\n",
    "                #mom_1 = stats.moment(i, 1, nan_policy = 'omit')\n",
    "                mom_2 = stats.moment(i, 2, nan_policy = 'omit')\n",
    "                mom_3 = stats.moment(i, 3, nan_policy = 'omit')\n",
    "                mom_4 = stats.moment(i, 4, nan_policy = 'omit')\n",
    "                mom_5 = stats.moment(i, 5, nan_policy = 'omit')\n",
    "                \n",
    "                #moments of differenced trace\n",
    "                mom_diff_1 = stats.moment(np.diff(i), 1, nan_policy = 'omit')\n",
    "                mom_diff_2 = stats.moment(np.diff(i), 2, nan_policy = 'omit')\n",
    "                mom_diff_3 = stats.moment(np.diff(i), 3, nan_policy = 'omit')\n",
    "                mom_diff_4 = stats.moment(np.diff(i), 4, nan_policy = 'omit')\n",
    "                mom_diff_5 = stats.moment(np.diff(i), 5, nan_policy = 'omit')\n",
    "                \n",
    "                # peaks\n",
    "                peaks = find_peaks(i)\n",
    "                peaks_widths = peak_widths(i, peaks)\n",
    "                \n",
    "                comp_d.append([time_peak, min_slope, max_slope, diff_peak_final, diff_peak_first, max_slope_index, \n",
    "                               min_slope_index, mean_10, mean_30, mean_rest, diff_first_mid, diff_final_mid, \n",
    "                               diff_peak_mid, mom_2, mom_3, mom_4, mom_5,\n",
    "                               mom_diff_1, mom_diff_2, mom_diff_3, mom_diff_4, mom_diff_5,\n",
    "                               peaks, peaks_widths])\n",
    "\n",
    "\n",
    "            out = np.asarray(comp_d).flatten()\n",
    "            #out = comp_d\n",
    "            if np.isnan(out).any() or np.isinf(out).any():\n",
    "                return np.random.randn(out.shape[0])**2\n",
    "                #return d.flatten()\n",
    "\n",
    "            #return out + np.random.rand(6*len(d))\n",
    "            return out\n",
    "    \n",
    "    def calc(self, repetition_list):\n",
    "        \"\"\"Calculate summary statistics\n",
    "\n",
    "        Parameters\n",
    "        ----------\n",
    "        repetition_list : list of dictionaries, one per repetition\n",
    "            data list, returned by `gen` method of Simulator instance\n",
    "\n",
    "        Returns\n",
    "        -------\n",
    "        np.array, 2d with n_reps x n_summary\n",
    "        \"\"\"\n",
    "        stats = []\n",
    "        for r in range(len(repetition_list)):\n",
    "            x = repetition_list[r]\n",
    "\n",
    "            N = x['data']\n",
    "            t = self.time\n",
    "\n",
    "            # concatenation of summary statistics\n",
    "            sum_stats_vec = self.compressor(N, t)\n",
    "            #sum_stats_vec = sum_stats_vec[0:self.n_summary]\n",
    "\n",
    "            stats.append(sum_stats_vec)\n",
    "\n",
    "        return np.asarray(stats)\n",
    "    \n"
   ]
  },
  {
   "cell_type": "markdown",
   "metadata": {},
   "source": [
    "## Generator"
   ]
  },
  {
   "cell_type": "code",
   "execution_count": 16,
   "metadata": {},
   "outputs": [],
   "source": [
    "import delfi.generator as dg\n",
    "\n",
    "\n",
    "m = Faas(seed=0)\n",
    "s = FaasStats(seed = 0)\n",
    "g = dg.Default(model=m, prior=prior, summary=s)"
   ]
  },
  {
   "cell_type": "markdown",
   "metadata": {},
   "source": [
    "## Test with simulated data"
   ]
  },
  {
   "cell_type": "code",
   "execution_count": 17,
   "metadata": {},
   "outputs": [
    {
     "name": "stdout",
     "output_type": "stream",
     "text": [
      "(94, 259)\n",
      "(24346,)\n"
     ]
    }
   ],
   "source": [
    "# true parameters and respective labels\n",
    "true_params = np.array([8.886491e+00,  7.924279e+00,\n",
    "   1.050515e+01,  7.397940e+00, -3.682371e+00, -4.509306e+00, -6.162727e+00,\n",
    "  -6.585027e+00,  1.100000e-03, -3.900000e-01])       \n",
    "labels_params = ['logKonTN', 'logKonTC', 'logKonRN', 'logKonRC', 'logKDTN', 'logKDTC', 'logKDRN', 'logKDRC', 'malpha', 'alpha0']\n",
    "\n",
    "\n",
    "\n",
    "true_params = np.array([8.886491e+00,  7.924279e+00,\n",
    "   1.050515e+01,  7.397940e+00, -3.682371e+00])       \n",
    "labels_params = ['logKonTN', 'logKonTC', 'logKonRN', 'logKonRC', 'logKDTN']# 'logKDRN', 'logKDRC', 'malpha', 'alpha0']\n",
    "\n",
    "\n",
    "# observed data: simulation given true parameters\n",
    "obs = m.gen_single(true_params)\n",
    "print(obs['data'].shape)\n",
    "print(obs['data'].flatten().shape)"
   ]
  },
  {
   "cell_type": "code",
   "execution_count": null,
   "metadata": {},
   "outputs": [],
   "source": [
    "plt.plot(np.diff(obs['data'][6]))"
   ]
  },
  {
   "cell_type": "code",
   "execution_count": null,
   "metadata": {
    "scrolled": true
   },
   "outputs": [],
   "source": [
    "import matplotlib as mpl\n",
    "import matplotlib.pyplot as plt\n",
    "\n",
    "%matplotlib inline\n",
    "\n",
    "fig = plt.figure(figsize=(7,5))\n",
    "ax = plt.subplot()\n",
    "plt.plot(obs['data'])\n",
    "plt.ylabel('voltage (mV)')\n",
    "plt.title('observed data')\n",
    "ax.set_xticks([])\n",
    "ax.set_yticks([-80, -20, 40])\n"
   ]
  },
  {
   "cell_type": "code",
   "execution_count": 18,
   "metadata": {},
   "outputs": [
    {
     "name": "stdout",
     "output_type": "stream",
     "text": [
      "[[ 2.20000000e-01 -3.49515961e-02  1.70920147e-04 ...  5.81832456e-05\n",
      "   5.77580321e-06  5.83501679e-07]]\n",
      "(1, 2162)\n"
     ]
    }
   ],
   "source": [
    "obs_stats = s.calc([obs])\n",
    "print(obs_stats)\n",
    "print(obs_stats.shape)"
   ]
  },
  {
   "cell_type": "markdown",
   "metadata": {},
   "source": [
    "## Inference"
   ]
  },
  {
   "cell_type": "code",
   "execution_count": 19,
   "metadata": {},
   "outputs": [],
   "source": [
    "seed_inf = 1\n",
    "\n",
    "pilot_samples = 500\n",
    "\n",
    "# training schedule\n",
    "n_train = 500\n",
    "n_rounds = 5\n",
    "\n",
    "# fitting setup\n",
    "minibatch = 100\n",
    "epochs = 100\n",
    "val_frac = 0.05\n",
    "\n",
    "# network setup\n",
    "n_hiddens = [50]*10\n",
    "\n",
    "# convenience\n",
    "prior_norm = True\n",
    "\n",
    "# MAF parameters\n",
    "density = 'maf'\n",
    "n_mades = 10       # number of MADES"
   ]
  },
  {
   "cell_type": "code",
   "execution_count": 23,
   "metadata": {},
   "outputs": [
    {
     "data": {
      "application/vnd.jupyter.widget-view+json": {
       "model_id": "a40b301609d842afa1d8ec9082247d4a",
       "version_major": 2,
       "version_minor": 0
      },
      "text/plain": [
       "HBox(children=(FloatProgress(value=0.0, max=500.0), HTML(value='')))"
      ]
     },
     "metadata": {},
     "output_type": "display_data"
    },
    {
     "name": "stdout",
     "output_type": "stream",
     "text": [
      "\n"
     ]
    },
    {
     "data": {
      "application/vnd.jupyter.widget-view+json": {
       "model_id": "f67dbc25808c4bddb16a63c9e9ee8356",
       "version_major": 2,
       "version_minor": 0
      },
      "text/plain": [
       "HBox(children=(FloatProgress(value=0.0, max=500.0), HTML(value='')))"
      ]
     },
     "metadata": {},
     "output_type": "display_data"
    },
    {
     "name": "stdout",
     "output_type": "stream",
     "text": [
      "\n",
      "[ 2.58412800e+00 -3.59091089e-02  4.22762629e-03 ...  1.73108921e-05\n",
      "  1.55636776e-06  1.39876442e-07]\n",
      "[8.49728928e+00 2.30894441e-03 1.90206491e-05 ... 5.34230559e-10\n",
      " 8.76988738e-12 1.56008187e-13]\n",
      "(2162,)\n",
      "(2162,)\n"
     ]
    },
    {
     "data": {
      "application/vnd.jupyter.widget-view+json": {
       "model_id": "ce11a39f777c4f899417becf466159a3",
       "version_major": 2,
       "version_minor": 0
      },
      "text/plain": [
       "HBox(children=(FloatProgress(value=0.0, max=50000.0), HTML(value='')))"
      ]
     },
     "metadata": {},
     "output_type": "display_data"
    },
    {
     "name": "stdout",
     "output_type": "stream",
     "text": [
      "\n"
     ]
    },
    {
     "data": {
      "application/vnd.jupyter.widget-view+json": {
       "model_id": "fa2cf3b680e549909962f281fa16a3e6",
       "version_major": 2,
       "version_minor": 0
      },
      "text/plain": [
       "HBox(children=(FloatProgress(value=0.0, max=500.0), HTML(value='')))"
      ]
     },
     "metadata": {},
     "output_type": "display_data"
    },
    {
     "name": "stdout",
     "output_type": "stream",
     "text": [
      "\n"
     ]
    },
    {
     "data": {
      "application/vnd.jupyter.widget-view+json": {
       "model_id": "00aed1b89e484f23aedec06d2f125e52",
       "version_major": 2,
       "version_minor": 0
      },
      "text/plain": [
       "HBox(children=(FloatProgress(value=0.0, max=500.0), HTML(value='')))"
      ]
     },
     "metadata": {},
     "output_type": "display_data"
    },
    {
     "name": "stdout",
     "output_type": "stream",
     "text": [
      "\n"
     ]
    },
    {
     "data": {
      "application/vnd.jupyter.widget-view+json": {
       "model_id": "f59780eecad24fe0b7078f759cc3df26",
       "version_major": 2,
       "version_minor": 0
      },
      "text/plain": [
       "HBox(children=(FloatProgress(value=0.0, max=50000.0), HTML(value='')))"
      ]
     },
     "metadata": {},
     "output_type": "display_data"
    },
    {
     "name": "stdout",
     "output_type": "stream",
     "text": [
      "\n"
     ]
    },
    {
     "data": {
      "application/vnd.jupyter.widget-view+json": {
       "model_id": "fbb59492e8e64d6dac974b4934201fab",
       "version_major": 2,
       "version_minor": 0
      },
      "text/plain": [
       "HBox(children=(FloatProgress(value=0.0, max=500.0), HTML(value='')))"
      ]
     },
     "metadata": {},
     "output_type": "display_data"
    },
    {
     "name": "stdout",
     "output_type": "stream",
     "text": [
      "\n"
     ]
    },
    {
     "data": {
      "application/vnd.jupyter.widget-view+json": {
       "model_id": "64b4ebb5e204497e9c374b46fb3f0434",
       "version_major": 2,
       "version_minor": 0
      },
      "text/plain": [
       "HBox(children=(FloatProgress(value=0.0, max=500.0), HTML(value='')))"
      ]
     },
     "metadata": {},
     "output_type": "display_data"
    },
    {
     "name": "stdout",
     "output_type": "stream",
     "text": [
      "\n"
     ]
    },
    {
     "data": {
      "application/vnd.jupyter.widget-view+json": {
       "model_id": "046dcbba519847f88bbdf8fb8304e0c6",
       "version_major": 2,
       "version_minor": 0
      },
      "text/plain": [
       "HBox(children=(FloatProgress(value=0.0, max=50000.0), HTML(value='')))"
      ]
     },
     "metadata": {},
     "output_type": "display_data"
    },
    {
     "name": "stdout",
     "output_type": "stream",
     "text": [
      "Stopping at epoch 80.0, training loss = 2.328717252556493, validation loss = 1.7367440222418755\n",
      "\n",
      "\n"
     ]
    },
    {
     "data": {
      "application/vnd.jupyter.widget-view+json": {
       "model_id": "e898574a8dbd48dfb33d63e1e850fdf9",
       "version_major": 2,
       "version_minor": 0
      },
      "text/plain": [
       "HBox(children=(FloatProgress(value=0.0, max=500.0), HTML(value='')))"
      ]
     },
     "metadata": {},
     "output_type": "display_data"
    },
    {
     "name": "stdout",
     "output_type": "stream",
     "text": [
      "\n"
     ]
    },
    {
     "data": {
      "application/vnd.jupyter.widget-view+json": {
       "model_id": "ccd110694fee481ea37814601b717323",
       "version_major": 2,
       "version_minor": 0
      },
      "text/plain": [
       "HBox(children=(FloatProgress(value=0.0, max=500.0), HTML(value='')))"
      ]
     },
     "metadata": {},
     "output_type": "display_data"
    },
    {
     "name": "stdout",
     "output_type": "stream",
     "text": [
      "\n"
     ]
    },
    {
     "data": {
      "application/vnd.jupyter.widget-view+json": {
       "model_id": "e968745621ce47c0a25de3c54d5f1f28",
       "version_major": 2,
       "version_minor": 0
      },
      "text/plain": [
       "HBox(children=(FloatProgress(value=0.0, max=50000.0), HTML(value='')))"
      ]
     },
     "metadata": {},
     "output_type": "display_data"
    },
    {
     "name": "stdout",
     "output_type": "stream",
     "text": [
      "\n"
     ]
    },
    {
     "data": {
      "application/vnd.jupyter.widget-view+json": {
       "model_id": "cef55226efc7453283317c82d97ae37d",
       "version_major": 2,
       "version_minor": 0
      },
      "text/plain": [
       "HBox(children=(FloatProgress(value=0.0, max=500.0), HTML(value='')))"
      ]
     },
     "metadata": {},
     "output_type": "display_data"
    },
    {
     "name": "stdout",
     "output_type": "stream",
     "text": [
      "\n"
     ]
    },
    {
     "data": {
      "application/vnd.jupyter.widget-view+json": {
       "model_id": "26297ec6e75b4a91a006b9078a37a7ba",
       "version_major": 2,
       "version_minor": 0
      },
      "text/plain": [
       "HBox(children=(FloatProgress(value=0.0, max=500.0), HTML(value='')))"
      ]
     },
     "metadata": {},
     "output_type": "display_data"
    },
    {
     "name": "stdout",
     "output_type": "stream",
     "text": [
      "\n"
     ]
    },
    {
     "data": {
      "application/vnd.jupyter.widget-view+json": {
       "model_id": "cb951a7e6c7b412fb955f8dc4f686314",
       "version_major": 2,
       "version_minor": 0
      },
      "text/plain": [
       "HBox(children=(FloatProgress(value=0.0, max=50000.0), HTML(value='')))"
      ]
     },
     "metadata": {},
     "output_type": "display_data"
    },
    {
     "name": "stdout",
     "output_type": "stream",
     "text": [
      "\n"
     ]
    }
   ],
   "source": [
    "import delfi.inference as infer\n",
    " \n",
    "# inference object\n",
    "res = infer.SNPEC(g,\n",
    "                obs=obs_stats,\n",
    "                n_hiddens=n_hiddens,\n",
    "                seed=seed_inf,\n",
    "                pilot_samples=pilot_samples,\n",
    "                n_mades=n_mades,\n",
    "                prior_norm=prior_norm,\n",
    "                density=density, verbose=True)\n",
    "\n",
    "# train\n",
    "log, _, posterior = res.run(\n",
    "                    n_train=n_train,\n",
    "                    n_rounds=n_rounds,\n",
    "                    minibatch=minibatch,\n",
    "                    epochs=epochs,\n",
    "                    silent_fail=False,\n",
    "                    proposal='prior',\n",
    "                    val_frac=val_frac,\n",
    "                    verbose=True,)"
   ]
  },
  {
   "cell_type": "code",
   "execution_count": 24,
   "metadata": {},
   "outputs": [
    {
     "data": {
      "image/png": "[encoded data removed]",
      "text/plain": [
       "<Figure size 1080x360 with 1 Axes>"
      ]
     },
     "metadata": {
      "needs_background": "light"
     },
     "output_type": "display_data"
    }
   ],
   "source": [
    "fig = plt.figure(figsize=(15,5))\n",
    "\n",
    "plt.plot(log[0]['loss'],lw=2)\n",
    "plt.xlabel('iteration')\n",
    "plt.ylabel('loss');"
   ]
  },
  {
   "cell_type": "code",
   "execution_count": 25,
   "metadata": {},
   "outputs": [
    {
     "data": {
      "image/png": "[encoded data removed]",
      "text/plain": [
       "<Figure size 500x500 with 25 Axes>"
      ]
     },
     "metadata": {},
     "output_type": "display_data"
    }
   ],
   "source": [
    "from delfi.utils.viz import samples_nd\n",
    "\n",
    "#lower= [4,2,4,2], upper=[12,10,12,10]\n",
    "\n",
    "prior_min = lower\n",
    "prior_max = upper\n",
    "prior_lims = np.concatenate((prior_min.reshape(-1,1),prior_max.reshape(-1,1)),axis=1)\n",
    "\n",
    "posterior_samples = posterior[0].gen(10000)\n",
    "\n",
    "###################\n",
    "# colors\n",
    "hex2rgb = lambda h: tuple(int(h[i:i+2], 16) for i in (0, 2, 4))\n",
    "\n",
    "# RGB colors in [0, 255]\n",
    "col = {}\n",
    "col['GT']      = hex2rgb('30C05D')\n",
    "col['SNPE']    = hex2rgb('2E7FE8')\n",
    "col['SAMPLE1'] = hex2rgb('8D62BC')\n",
    "col['SAMPLE2'] = hex2rgb('AF99EF')\n",
    "\n",
    "# convert to RGB colors in [0, 1]\n",
    "for k, v in col.items():\n",
    "    col[k] = tuple([i/255 for i in v])\n",
    "\n",
    "###################\n",
    "# posterior\n",
    "fig, axes = samples_nd(posterior_samples,\n",
    "                       limits=prior_lims,\n",
    "                       ticks=prior_lims,\n",
    "                       labels=labels_params,\n",
    "                       fig_size=(5,5),\n",
    "                       diag='kde',\n",
    "                       upper='kde',\n",
    "                       hist_diag={'bins': 50},\n",
    "                       hist_offdiag={'bins': 50},\n",
    "                       kde_diag={'bins': 50, 'color': col['SNPE']},\n",
    "                       kde_offdiag={'bins': 50},\n",
    "                       points=[true_params],\n",
    "                       points_offdiag={'markersize': 5},\n",
    "                       points_colors=[col['GT']],\n",
    "                       title='');"
   ]
  },
  {
   "cell_type": "code",
   "execution_count": null,
   "metadata": {},
   "outputs": [],
   "source": [
    "print(np.median(posterior_samples))"
   ]
  },
  {
   "cell_type": "code",
   "execution_count": null,
   "metadata": {},
   "outputs": [],
   "source": [
    "fig = plt.figure(figsize=(7,5))\n",
    "\n",
    "y_obs = obs['data']\n",
    "t = obs['time']\n",
    "duration = np.max(t)\n",
    "\n",
    "num_samp = 2\n",
    "\n",
    "# sample from posterior\n",
    "x_samp = posterior[0].gen(n_samples=num_samp)\n",
    "\n",
    "# reject samples for which prior is zero\n",
    "ind = (x_samp > prior_min) & (x_samp < prior_max)\n",
    "params = x_samp[np.prod(ind,axis=1)==1]\n",
    "\n",
    "num_samp = len(params[:,0])\n",
    "\n",
    "# simulate and plot samples\n",
    "V = np.zeros((len(t),num_samp))\n",
    "for i in range(num_samp):\n",
    "    x = m.gen_single(params[i,:])\n",
    "    V[:,i] = x['data']\n",
    "    plt.plot(t, V[:, i], color = col['SAMPLE'+str(i+1)], lw=2, label='sample '+str(num_samp-i))\n",
    "\n",
    "# plot observation\n",
    "plt.plot(t, y_obs, '--',lw=2, label='observation')\n",
    "plt.xlabel('time (ms)')\n",
    "plt.ylabel('voltage (mV)')\n",
    "\n",
    "ax = plt.gca()\n",
    "handles, labels = ax.get_legend_handles_labels()\n",
    "ax.legend(handles[::-1], labels[::-1], bbox_to_anchor=(1.3, 1), loc='upper right')\n",
    "\n",
    "ax.set_xticks([0, duration/2, duration])\n",
    "ax.set_yticks([-80, -20, 40]);"
   ]
  },
  {
   "cell_type": "code",
   "execution_count": null,
   "metadata": {},
   "outputs": [],
   "source": []
  }
 ],
 "metadata": {
  "kernelspec": {
   "display_name": "Python 3",
   "language": "python",
   "name": "python3"
  },
  "language_info": {
   "codemirror_mode": {
    "name": "ipython",
    "version": 3
   },
   "file_extension": ".py",
   "mimetype": "text/x-python",
   "name": "python",
   "nbconvert_exporter": "python",
   "pygments_lexer": "ipython3",
   "version": "3.7.5"
  }
 },
 "nbformat": 4,
 "nbformat_minor": 2
}
